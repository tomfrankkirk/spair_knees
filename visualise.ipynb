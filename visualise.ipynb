{
 "cells": [
  {
   "cell_type": "code",
   "execution_count": 1,
   "metadata": {},
   "outputs": [
    {
     "name": "stderr",
     "output_type": "stream",
     "text": [
      "Using TensorFlow backend.\n",
      "\n",
      "Bad key \"text.kerning_factor\" on line 4 in\n",
      "/usr/local/anaconda3/envs/knees/lib/python3.7/site-packages/matplotlib/mpl-data/stylelib/_classic_test_patch.mplstyle.\n",
      "You probably need to get an updated matplotlibrc file from\n",
      "https://github.com/matplotlib/matplotlib/blob/v3.1.3/matplotlibrc.template\n",
      "or from the matplotlib source distribution\n"
     ]
    }
   ],
   "source": [
    "import numpy as np\n",
    "from keras.models import load_model \n",
    "from image_generator import ImageGenerator\n",
    "from train import image_label_paths\n",
    "import imageio as iio \n",
    "import matplotlib.pyplot as plt \n",
    "from pdb import set_trace\n",
    "\n",
    "INDIR = 'MRI_png_processed'\n",
    "OUTDIR = 'MRI_predicted'\n",
    "TITLES = ['Predicted', 'Truth']"
   ]
  },
  {
   "cell_type": "code",
   "execution_count": 2,
   "metadata": {},
   "outputs": [],
   "source": [
    "ipaths, lpaths = image_label_paths()\n",
    "generate = ImageGenerator(ipaths, lpaths, 2)\n",
    "unet = load_model('unet.h5')"
   ]
  },
  {
   "cell_type": "code",
   "execution_count": null,
   "metadata": {},
   "outputs": [
    {
     "name": "stderr",
     "output_type": "stream",
     "text": [
      "/usr/local/anaconda3/envs/knees/lib/python3.7/site-packages/ipykernel_launcher.py:7: RuntimeWarning: More than 20 figures have been opened. Figures created through the pyplot interface (`matplotlib.pyplot.figure`) are retained until explicitly closed and may consume too much memory. (To control this warning, see the rcParam `figure.max_open_warning`).\n",
      "  import sys\n"
     ]
    }
   ],
   "source": [
    "for images, labels in iter(generate):\n",
    "    # set_trace()\n",
    "    predictions = np.zeros(images.shape)\n",
    "    # pred = unet.predict_on_batch(images)\n",
    "    for img, pred, lbl in zip(images, predictions, labels):\n",
    "        # set_trace()\n",
    "        fig, axes = plt.subplots(1, 3, constrained_layout=True)\n",
    "        for ax, data, ttl in zip(axes, [img,pred,lbl], ['blah'] + TITLES):\n",
    "            ax.imshow(np.squeeze(data), cmap='gray')\n",
    "            ax.set_title(ttl)\n",
    "            ax.set_axis_off()"
   ]
  },
  {
   "cell_type": "code",
   "execution_count": null,
   "metadata": {},
   "outputs": [],
   "source": []
  }
 ],
 "metadata": {
  "kernelspec": {
   "display_name": "Python 3.7.6 64-bit",
   "language": "python",
   "name": "python37664bite866eb8b9daf43ed9b49a3e3854ee272"
  },
  "language_info": {
   "codemirror_mode": {
    "name": "ipython",
    "version": 3
   },
   "file_extension": ".py",
   "mimetype": "text/x-python",
   "name": "python",
   "nbconvert_exporter": "python",
   "pygments_lexer": "ipython3",
   "version": "3.7.7"
  }
 },
 "nbformat": 4,
 "nbformat_minor": 2
}
